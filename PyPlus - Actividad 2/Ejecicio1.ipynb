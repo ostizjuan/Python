{
 "cells": [
  {
   "cell_type": "markdown",
   "id": "c24ab4e9",
   "metadata": {},
   "source": [
    "###### "
   ]
  },
  {
   "cell_type": "markdown",
   "id": "890a02e7",
   "metadata": {},
   "source": [
    "# Porcentaje de jugadas en el fin de semana"
   ]
  },
  {
   "cell_type": "markdown",
   "id": "988bd928",
   "metadata": {},
   "source": [
    "###### "
   ]
  },
  {
   "cell_type": "markdown",
   "id": "4a3b8cfc",
   "metadata": {},
   "source": [
    "### Importo \"pandas\" para el análisis de datos y \"os\" para especificar la ruta del archivo"
   ]
  },
  {
   "cell_type": "code",
   "execution_count": 7,
   "id": "e1a4c338",
   "metadata": {},
   "outputs": [],
   "source": [
    "import os\n",
    "import pandas as pd\n",
    "from matplotlib import pyplot as plt\n",
    "%matplotlib inline"
   ]
  },
  {
   "cell_type": "markdown",
   "id": "dc76347c",
   "metadata": {},
   "source": [
    "###### "
   ]
  },
  {
   "cell_type": "markdown",
   "id": "26ff7592",
   "metadata": {},
   "source": [
    "### Leo los datos y obtengo la cantidad de jugadas que ocurrieron el fin de semana"
   ]
  },
  {
   "cell_type": "code",
   "execution_count": 8,
   "id": "21f12774",
   "metadata": {},
   "outputs": [],
   "source": [
    "data_set = pd.read_csv(os.path.join(os.getcwd(), 'stats.csv'), encoding='utf-8')\n",
    "data_set\n",
    "weekend = len(data_set[data_set['Dia'] == 'Sábado']) + len(data_set[data_set['Dia'] == 'Domingo'])"
   ]
  },
  {
   "cell_type": "markdown",
   "id": "fa91e200",
   "metadata": {},
   "source": [
    "###### "
   ]
  },
  {
   "cell_type": "markdown",
   "id": "5775a403",
   "metadata": {},
   "source": [
    "### Obtengo la cantidad de datos que ocurrieron en el resto de los días."
   ]
  },
  {
   "cell_type": "code",
   "execution_count": 9,
   "id": "e1f33eb8",
   "metadata": {},
   "outputs": [],
   "source": [
    "rest_of_week = len(data_set) - weekend"
   ]
  },
  {
   "cell_type": "markdown",
   "id": "fbb06440",
   "metadata": {},
   "source": [
    "###### "
   ]
  },
  {
   "cell_type": "markdown",
   "id": "fc0a3189",
   "metadata": {},
   "source": [
    "### Genero el gráfico"
   ]
  },
  {
   "cell_type": "code",
   "execution_count": 10,
   "id": "92d4cea4",
   "metadata": {},
   "outputs": [],
   "source": [
    "etiquetas = [\"Días hábiles\", \"Fin de semana\"]"
   ]
  },
  {
   "cell_type": "code",
   "execution_count": 11,
   "id": "9f8911cb",
   "metadata": {},
   "outputs": [],
   "source": [
    "data_dibujo = [rest_of_week, weekend]"
   ]
  },
  {
   "cell_type": "code",
   "execution_count": 12,
   "id": "4369dcf8",
   "metadata": {},
   "outputs": [
    {
     "data": {
      "image/png": "[encoded data removed]",
      "text/plain": [
       "<Figure size 432x288 with 1 Axes>"
      ]
     },
     "metadata": {},
     "output_type": "display_data"
    }
   ],
   "source": [
    "explode = (0.1, 0)\n",
    "plt.pie(data_dibujo, explode=explode, labels=etiquetas, autopct='%1.1f%%',\n",
    "        shadow=True, startangle=90, labeldistance= 1.1)\n",
    "plt.axis('equal')\n",
    "plt.legend(etiquetas)\n",
    "plt.title(\"Cantidad de jugadas (Semanal)\")\n",
    "plt.show()"
   ]
  }
 ],
 "metadata": {
  "kernelspec": {
   "display_name": "Python 3",
   "language": "python",
   "name": "python3"
  },
  "language_info": {
   "codemirror_mode": {
    "name": "ipython",
    "version": 3
   },
   "file_extension": ".py",
   "mimetype": "text/x-python",
   "name": "python",
   "nbconvert_exporter": "python",
   "pygments_lexer": "ipython3",
   "version": "3.9.4"
  }
 },
 "nbformat": 4,
 "nbformat_minor": 5
}
